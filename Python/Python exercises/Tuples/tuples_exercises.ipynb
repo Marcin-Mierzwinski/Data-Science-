{
 "cells": [
  {
   "cell_type": "markdown",
   "metadata": {},
   "source": [
    "#### Zadanie 1\n",
    "\n",
    "Stwórz rekord w postaci krotki (imie, nazwisko) z poniższych zmiennych"
   ]
  },
  {
   "cell_type": "code",
   "execution_count": 1,
   "metadata": {},
   "outputs": [
    {
     "name": "stdout",
     "output_type": "stream",
     "text": [
      "('James', 'Bond')\n"
     ]
    }
   ],
   "source": [
    "name = \"James\"\n",
    "surname = \"Bond\"\n",
    "ns=(name, surname)\n",
    "print(ns)"
   ]
  },
  {
   "cell_type": "markdown",
   "metadata": {},
   "source": [
    "#### Zadanie 2\n",
    "\n",
    "Dodaj do rekordu z zadania 1 kod (tak aby krotka miała trzy elementy)"
   ]
  },
  {
   "cell_type": "code",
   "execution_count": 6,
   "metadata": {},
   "outputs": [
    {
     "name": "stdout",
     "output_type": "stream",
     "text": [
      "('James', 'Bond', '007')\n"
     ]
    }
   ],
   "source": [
    "code = \"007\"\n",
    "ns1=ns+(code,)\n",
    "print(ns1)"
   ]
  },
  {
   "cell_type": "markdown",
   "metadata": {},
   "source": [
    "#### Zadanie 3\n",
    "\n",
    "Poniżej znajduje się lista prostokątów opisanych jako para `(bok_a, bok_b)`\n",
    "\n",
    "Dla każdego z nich wylicz i wypisz obwód\n",
    "\n",
    "Użyj rozpakowania krotki od razu w pętli `for`"
   ]
  },
  {
   "cell_type": "code",
   "execution_count": 10,
   "metadata": {},
   "outputs": [
    {
     "name": "stdout",
     "output_type": "stream",
     "text": [
      "[120, 38, 36, 150]\n"
     ]
    }
   ],
   "source": [
    "rects = [\n",
    "    (10, 50),\n",
    "    (10, 9),\n",
    "    (15, 3),\n",
    "    (30, 45)\n",
    "]\n",
    "obwód=[2*(i+j) for i,j in rects]\n",
    "print(obwód)\n"
   ]
  },
  {
   "cell_type": "markdown",
   "metadata": {},
   "source": [
    "#### Zadanie 4\n",
    "\n",
    "Dla każego z prostokątów wylicz obwód i pole powierzchni.\n",
    "\n",
    "Stwórz nową listę `wyniki` która będzie zawierała pary `(obwod, pole)` dla każdego z prostokątów."
   ]
  },
  {
   "cell_type": "code",
   "execution_count": 16,
   "metadata": {},
   "outputs": [
    {
     "name": "stdout",
     "output_type": "stream",
     "text": [
      "[(120, 500), (38, 90), (36, 45), (150, 1350)]\n"
     ]
    }
   ],
   "source": [
    "rects = [\n",
    "    (10, 50),\n",
    "    (10, 9),\n",
    "    (15, 3),\n",
    "    (30, 45)\n",
    "]\n",
    "rects = [\n",
    "    (10, 50),\n",
    "    (10, 9),\n",
    "    (15, 3),\n",
    "    (30, 45)\n",
    "]\n",
    "wyniki=[(2*(i+j),i*j) for i,j in rects]\n",
    "print(wyniki)"
   ]
  },
  {
   "cell_type": "markdown",
   "metadata": {},
   "source": [
    "#### Zadanie 5\n",
    "\n",
    "Na podstawie dwóch list, imion i nazwisk, stwórz listę rekrodów w postaci krotki `(imie, nazwisko)`"
   ]
  },
  {
   "cell_type": "code",
   "execution_count": 34,
   "metadata": {},
   "outputs": [
    {
     "name": "stdout",
     "output_type": "stream",
     "text": [
      "[('Adam', 'Nowak'), ('Bartosz', 'Kowalski'), ('Cyryl', 'Imetody')]\n"
     ]
    }
   ],
   "source": [
    "imiona = [\"Adam\", \"Bartosz\", \"Cyryl\"]\n",
    "nazwiska = [\"Nowak\", \"Kowalski\", \"Imetody\"]\n",
    "imiona_nazwiska=((imiona[i], nazwiska[i]) for i in range(len(nazwiska)))\n",
    "print(list(imiona_nazwiska))"
   ]
  },
  {
   "cell_type": "markdown",
   "metadata": {},
   "source": [
    "#### Zadanie 6\n",
    "\n",
    "Spróbuj okiełznać funkcję `zip()` do wykonania zadania 5"
   ]
  },
  {
   "cell_type": "code",
   "execution_count": 37,
   "metadata": {},
   "outputs": [
    {
     "name": "stdout",
     "output_type": "stream",
     "text": [
      "[('Adam', 'Nowak'), ('Bartosz', 'Kowalski'), ('Cyryl', 'Imetody')]\n"
     ]
    }
   ],
   "source": [
    "imiona_nazwiska_zip=zip(imiona,nazwiska)\n",
    "print(list(imiona_nazwiska_zip))"
   ]
  }
 ],
 "metadata": {
  "kernelspec": {
   "display_name": "base",
   "language": "python",
   "name": "python3"
  },
  "language_info": {
   "codemirror_mode": {
    "name": "ipython",
    "version": 3
   },
   "file_extension": ".py",
   "mimetype": "text/x-python",
   "name": "python",
   "nbconvert_exporter": "python",
   "pygments_lexer": "ipython3",
   "version": "3.9.13"
  },
  "vscode": {
   "interpreter": {
    "hash": "88279d2366fe020547cde40dd65aa0e3aa662a6ec1f3ca12d88834876c85e1a6"
   }
  }
 },
 "nbformat": 4,
 "nbformat_minor": 4
}
