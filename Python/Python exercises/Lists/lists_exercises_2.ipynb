{
 "cells": [
  {
   "cell_type": "markdown",
   "metadata": {},
   "source": [
    "#### Zadanie 1\n",
    "\n",
    "Napisz program, który policzy stringi o długości min. 2, w których pierwsza i ostatnia litera jest taka sama"
   ]
  },
  {
   "cell_type": "code",
   "execution_count": null,
   "metadata": {},
   "outputs": [],
   "source": [
    "lista_slow = [\"abba\", \"ala\", \"xyzzyxy\", \"kayak\", \"koło\"]\n",
    "count=0\n",
    "for i in lista_slow:\n",
    "    if len(i)>2 and "
   ]
  },
  {
   "cell_type": "markdown",
   "metadata": {},
   "source": [
    "#### Zadanie 2\n",
    "\n",
    "Napisz program, który sprawdzi, czy dwie listy mają przynajmniej jeden element wspólny"
   ]
  },
  {
   "cell_type": "code",
   "execution_count": null,
   "metadata": {},
   "outputs": [],
   "source": [
    "lista_a = [1, 23, 94, \"kot\", \"pies\", [2, 3]]\n",
    "lista_b = [54, [2, 3], \"kot\"]"
   ]
  },
  {
   "cell_type": "markdown",
   "metadata": {},
   "source": [
    "#### Zadanie 3\n",
    "\n",
    "Napisz program, który stworzy listę zawierającą elmenty wspólne dwóch list"
   ]
  },
  {
   "cell_type": "code",
   "execution_count": null,
   "metadata": {},
   "outputs": [],
   "source": [
    "lista_a = [1, 23, 94, \"kot\", \"pies\", [2, 3]]\n",
    "lista_b = [54, [2, 3], \"kot\"]"
   ]
  },
  {
   "cell_type": "markdown",
   "metadata": {},
   "source": [
    "#### Zadanie 4\n",
    "\n",
    "Stwórz nową listę, w której imiona będą miały dopisane \" TAK\" lub \" NIE\" w zależności od tego czy znajdują się na liście obecności\n",
    "\n",
    "Np. dla `wszyscy = [\"Anna\", \"Bartosz\"]` i `obecni = [\"Anna\"]`\n",
    "\n",
    "```\n",
    "[\"Anna TAK\", \"Bartosz NIE\"]\n",
    "```"
   ]
  },
  {
   "cell_type": "code",
   "execution_count": null,
   "metadata": {},
   "outputs": [],
   "source": [
    "wszyscy = [\"Anna\", \"Jurek\", \"Beata\", \"Jarek\", \"Patrycja\", \"Arkadiusz\"]\n",
    "obecni = [\"Jurek\", \"Patrycja\", \"Beata\"]"
   ]
  },
  {
   "cell_type": "markdown",
   "metadata": {},
   "source": [
    "#### Zadanie 5\n",
    "\n",
    "Stwórz nową listę, której elementy będą listami z dwoma elementami - imieniem i statusem obecności, w zależności od tego czy dane imie znajduje się na liście obecności\n",
    "\n",
    "Np. dla `wszyscy = [\"Anna\", \"Bartosz\"]` i `obecni = [\"Anna\"]`\n",
    "\n",
    "```\n",
    "[[\"Anna\", \"TAK\"],\n",
    " [\"Bartosz\", \"NIE\"]]\n",
    "```"
   ]
  },
  {
   "cell_type": "code",
   "execution_count": null,
   "metadata": {},
   "outputs": [],
   "source": [
    "wszyscy = [\"Anna\", \"Jurek\", \"Beata\", \"Jarek\", \"Patrycja\", \"Arkadiusz\"]\n",
    "obecni = [\"Jurek\", \"Patrycja\", \"Beata\"]"
   ]
  },
  {
   "cell_type": "markdown",
   "metadata": {},
   "source": [
    "#### Zadanie 6\n",
    "\n",
    "Lista `kursanci` zwiera imiona kursantów, a `wyniki` ich wyniki ze sprawdzianu\n",
    "\n",
    "Stwórz trzecią listę która będzie zawierała \"ZDAŁ\" lub \"NIEZDAŁ\" w zależności od tego, czy wynik jest większy niż 50\n",
    "\n",
    "Np. dla `imiona = [\"Anna\", \"Bartosz\"]` i `wyniki = [90, 45]`\n",
    "\n",
    "```\n",
    "[\"ZDAŁ\", \"NIEZDAŁ\"]\n",
    "```"
   ]
  },
  {
   "cell_type": "code",
   "execution_count": null,
   "metadata": {},
   "outputs": [],
   "source": [
    "kursanci = [\"Anna\", \"Jurek\", \"Beata\", \"Jarek\", \"Patrycja\", \"Arkadiusz\"]\n",
    "wyniki = [35, 78, 92, 45, 55, 80]"
   ]
  },
  {
   "cell_type": "markdown",
   "metadata": {},
   "source": [
    "#### Zadanie 7\n",
    "\n",
    "Zwróć nową listę bez duplikatów\n",
    "\n",
    "(nie korzystając ze zbioru - `set()`)"
   ]
  },
  {
   "cell_type": "code",
   "execution_count": null,
   "metadata": {},
   "outputs": [],
   "source": [
    "lista = [10, 20, 10, 30, 40, 40, 40, 50, 20, 20, 10, 50, 60, 60]"
   ]
  },
  {
   "cell_type": "markdown",
   "metadata": {},
   "source": [
    "#### Zadanie 8\n",
    "\n",
    "Napisz program sumujący wszystkie elementy listy liczb\n",
    "\n",
    "(nie korzystając z `sum()`)"
   ]
  },
  {
   "cell_type": "code",
   "execution_count": null,
   "metadata": {},
   "outputs": [],
   "source": [
    "liczby = [12, 23, 41, 53, 121, 535, 11]"
   ]
  },
  {
   "cell_type": "markdown",
   "metadata": {},
   "source": [
    "#### Zadanie 9\n",
    "\n",
    "Napisz program znajdujący największy i najmniejszy element listy liczb\n",
    "\n",
    "(nie korzystając z `max()` i `min()`)"
   ]
  },
  {
   "cell_type": "code",
   "execution_count": null,
   "metadata": {},
   "outputs": [],
   "source": [
    "liczby = [12, 23, 41, 53, 121, 535, 11]"
   ]
  },
  {
   "cell_type": "markdown",
   "metadata": {},
   "source": [
    "#### Zadanie 10\n",
    "\n",
    "Napisz program, który zmieni zdanie w listę wyrazów (na razie rozbijmy tylko po spacji, pomińmy inne znaki)\n",
    "\n",
    "(nie korzystając z metody `split()` typu string)"
   ]
  },
  {
   "cell_type": "code",
   "execution_count": null,
   "metadata": {},
   "outputs": [],
   "source": [
    "zdanie = \"Ala ma kota w butach\""
   ]
  },
  {
   "cell_type": "markdown",
   "metadata": {},
   "source": [
    "#### Zadanie 11\n",
    "\n",
    "Napisz program który znajdzie wartości występujące tylko raz"
   ]
  },
  {
   "cell_type": "code",
   "execution_count": null,
   "metadata": {},
   "outputs": [],
   "source": [
    "lista = [10, 20, 30, 20, 10, 50, 60, 40, 80, 50, 40]"
   ]
  },
  {
   "cell_type": "markdown",
   "metadata": {},
   "source": [
    "#### Zadanie 12\n",
    "\n",
    "Napisz program, który policzy ile razy elementy występują w liście i wypisze rezultat.\n",
    "\n",
    "Wykonaj zadanie na dwa sposoby:\n",
    "\n",
    "a. z wykorzystaniem meteody wbudowanej list `count()`\n",
    "\n",
    "b. bez `count()`\n",
    "\n",
    "Np. dla `lista = [10, 20, 30, 20, 10, 50, \"aa\", 40, 80, 50, 40]`\n",
    "\n",
    "```\n",
    "10 - 2\n",
    "20 - 2\n",
    "30 - 1\n",
    "50 - 2\n",
    "\"aa\" - 1\n",
    "40 - 2\n",
    "80 - 1\n",
    "```"
   ]
  },
  {
   "cell_type": "code",
   "execution_count": null,
   "metadata": {},
   "outputs": [],
   "source": []
  }
 ],
 "metadata": {
  "kernelspec": {
   "display_name": "base",
   "language": "python",
   "name": "python3"
  },
  "language_info": {
   "codemirror_mode": {
    "name": "ipython",
    "version": 3
   },
   "file_extension": ".py",
   "mimetype": "text/x-python",
   "name": "python",
   "nbconvert_exporter": "python",
   "pygments_lexer": "ipython3",
   "version": "3.9.13"
  },
  "vscode": {
   "interpreter": {
    "hash": "88279d2366fe020547cde40dd65aa0e3aa662a6ec1f3ca12d88834876c85e1a6"
   }
  }
 },
 "nbformat": 4,
 "nbformat_minor": 4
}
