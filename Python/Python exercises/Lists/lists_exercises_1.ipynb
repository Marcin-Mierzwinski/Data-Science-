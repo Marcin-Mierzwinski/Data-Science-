{
 "cells": [
  {
   "cell_type": "markdown",
   "metadata": {},
   "source": [
    "#### Zadanie 1\n",
    "\n",
    "Zadeklaruj listę `miasta` która będzie zawierała następujące stringi \"gdańsk\", \"kraków\", \"warszawa\", \"sopot\""
   ]
  },
  {
   "cell_type": "code",
   "execution_count": 12,
   "metadata": {},
   "outputs": [
    {
     "name": "stdout",
     "output_type": "stream",
     "text": [
      "['gdańsk', 'kraków', 'warszawa', 'sopot']\n"
     ]
    }
   ],
   "source": [
    "miasta = [\"gdańsk\", \"kraków\", \"warszawa\", \"sopot\"]\n",
    "print(miasta)"
   ]
  },
  {
   "cell_type": "markdown",
   "metadata": {},
   "source": [
    "#### Zadanie 2\n",
    "\n",
    "Dodaj do listy `miasta` nastepujące wartości: \"gdynia\", \"poznań\""
   ]
  },
  {
   "cell_type": "code",
   "execution_count": 13,
   "metadata": {},
   "outputs": [
    {
     "name": "stdout",
     "output_type": "stream",
     "text": [
      "['gdańsk', 'kraków', 'warszawa', 'sopot', 'gdynia', 'poznań']\n"
     ]
    }
   ],
   "source": [
    "miasta.extend([\"gdynia\", \"poznań\"])\n",
    "print(miasta)"
   ]
  },
  {
   "cell_type": "markdown",
   "metadata": {},
   "source": [
    "#### Zadanie 3\n",
    "\n",
    "Dodaj do listy `miasta` elementy następującej listy:"
   ]
  },
  {
   "cell_type": "code",
   "execution_count": 14,
   "metadata": {},
   "outputs": [
    {
     "name": "stdout",
     "output_type": "stream",
     "text": [
      "['gdańsk', 'kraków', 'warszawa', 'sopot', 'gdynia', 'poznań', 'wrocław', 'łódź']\n"
     ]
    }
   ],
   "source": [
    "inne_miasta = [\"wrocław\", \"łódź\"]\n",
    "miasta.extend(inne_miasta)\n",
    "print(miasta)"
   ]
  },
  {
   "cell_type": "markdown",
   "metadata": {},
   "source": [
    "#### Zadanie 4\n",
    "\n",
    "Wypisz wszystkie miasta z listy `miasta`, ale pisane wielką literą"
   ]
  },
  {
   "cell_type": "code",
   "execution_count": 19,
   "metadata": {},
   "outputs": [
    {
     "name": "stdout",
     "output_type": "stream",
     "text": [
      "Gdańsk\n",
      "Kraków\n",
      "Warszawa\n",
      "Sopot\n",
      "Gdynia\n",
      "Poznań\n",
      "Wrocław\n",
      "Łódź\n"
     ]
    }
   ],
   "source": [
    "for i in miasta:\n",
    "   print(i.capitalize())\n"
   ]
  },
  {
   "cell_type": "markdown",
   "metadata": {},
   "source": [
    "#### Zadanie 5\n",
    "\n",
    "Stwórz nową listę w której będą miasta z listy `miasta`, ale pisane wielką literą"
   ]
  },
  {
   "cell_type": "code",
   "execution_count": 28,
   "metadata": {},
   "outputs": [
    {
     "name": "stdout",
     "output_type": "stream",
     "text": [
      "['Gdańsk', 'Kraków', 'Warszawa', 'Sopot', 'Gdynia', 'Poznań', 'Wrocław', 'Łódź']\n"
     ]
    }
   ],
   "source": [
    "\n",
    "Miasta_test = [i.capitalize() for i in miasta]\n",
    "\n",
    "print(Miasta_test)"
   ]
  },
  {
   "cell_type": "markdown",
   "metadata": {},
   "source": [
    "#### Zadanie 6\n",
    "\n",
    "Zadeklaruj listę `liczby`, która będzie zawierała liczby od 1 do 10 (włącznie) na podane sposoby\n",
    "\n",
    "a. Podając wartości\n",
    "\n",
    "b. Konstruktorem `list()` i obiektem `range()`"
   ]
  },
  {
   "cell_type": "code",
   "execution_count": 33,
   "metadata": {},
   "outputs": [
    {
     "name": "stdout",
     "output_type": "stream",
     "text": [
      "[1, 2, 3, 4, 5, 6, 7, 8, 9, 10]\n"
     ]
    }
   ],
   "source": [
    "liczby=[1, 2, 3, 4, 5, 6, 7, 8, 9, 10]\n",
    "print(liczby)"
   ]
  },
  {
   "cell_type": "code",
   "execution_count": 32,
   "metadata": {},
   "outputs": [
    {
     "name": "stdout",
     "output_type": "stream",
     "text": [
      "[1, 2, 3, 4, 5, 6, 7, 8, 9, 10]\n"
     ]
    }
   ],
   "source": [
    "liczby=[i for i in range(1,11)]\n",
    "print(liczby)"
   ]
  },
  {
   "cell_type": "markdown",
   "metadata": {},
   "source": [
    "#### Zadanie 7\n",
    "\n",
    "Wypisz wszystkie liczby z listy `liczby`, ale powiększone o 10 - tzn. 11, 12 ... 20"
   ]
  },
  {
   "cell_type": "code",
   "execution_count": 34,
   "metadata": {},
   "outputs": [
    {
     "name": "stdout",
     "output_type": "stream",
     "text": [
      "[11, 12, 13, 14, 15, 16, 17, 18, 19, 20]\n"
     ]
    }
   ],
   "source": [
    "liczby=[i+10 for i in range(1,11)]\n",
    "print(liczby)"
   ]
  },
  {
   "cell_type": "markdown",
   "metadata": {},
   "source": [
    "#### Zadanie 8\n",
    "\n",
    "Stwórz listę `do_kwadratu` w której znajdą się elementy listy `liczby`, ale podniesione do drugiej potęgi"
   ]
  },
  {
   "cell_type": "code",
   "execution_count": 55,
   "metadata": {},
   "outputs": [
    {
     "name": "stdout",
     "output_type": "stream",
     "text": [
      "[121, 144, 169, 196, 225, 256, 289, 324, 361, 400]\n"
     ]
    },
    {
     "ename": "TypeError",
     "evalue": "unsupported operand type(s) for +: 'int' and 'list'",
     "output_type": "error",
     "traceback": [
      "\u001b[1;31m---------------------------------------------------------------------------\u001b[0m",
      "\u001b[1;31mTypeError\u001b[0m                                 Traceback (most recent call last)",
      "\u001b[1;32m~\\AppData\\Local\\Temp\\ipykernel_13132\\1521327698.py\u001b[0m in \u001b[0;36m<module>\u001b[1;34m\u001b[0m\n\u001b[0;32m      1\u001b[0m \u001b[0mdo_kwadratu\u001b[0m\u001b[1;33m=\u001b[0m\u001b[1;33m[\u001b[0m\u001b[0mi\u001b[0m\u001b[1;33m**\u001b[0m\u001b[1;36m2\u001b[0m \u001b[1;32mfor\u001b[0m \u001b[0mi\u001b[0m \u001b[1;32min\u001b[0m \u001b[0mliczby\u001b[0m\u001b[1;33m]\u001b[0m\u001b[1;33m\u001b[0m\u001b[1;33m\u001b[0m\u001b[0m\n\u001b[0;32m      2\u001b[0m \u001b[0mprint\u001b[0m\u001b[1;33m(\u001b[0m\u001b[0mdo_kwadratu\u001b[0m\u001b[1;33m)\u001b[0m\u001b[1;33m\u001b[0m\u001b[1;33m\u001b[0m\u001b[0m\n\u001b[1;32m----> 3\u001b[1;33m \u001b[0mprint\u001b[0m\u001b[1;33m(\u001b[0m\u001b[0mliczby\u001b[0m\u001b[1;33m[\u001b[0m\u001b[1;36m1\u001b[0m\u001b[1;33m]\u001b[0m\u001b[1;33m+\u001b[0m\u001b[0mliczby\u001b[0m\u001b[1;33m)\u001b[0m\u001b[1;33m\u001b[0m\u001b[1;33m\u001b[0m\u001b[0m\n\u001b[0m",
      "\u001b[1;31mTypeError\u001b[0m: unsupported operand type(s) for +: 'int' and 'list'"
     ]
    }
   ],
   "source": [
    "do_kwadratu=[i**2 for i in liczby]\n",
    "print(do_kwadratu)\n",
    "print(liczby[1]+liczby)"
   ]
  },
  {
   "cell_type": "markdown",
   "metadata": {},
   "source": [
    "#### Zadanie 9\n",
    "\n",
    "Stwórz listę `nieparzyste` w której znajdą się nieparzyste elementy listy `liczby`"
   ]
  },
  {
   "cell_type": "code",
   "execution_count": 60,
   "metadata": {},
   "outputs": [
    {
     "name": "stdout",
     "output_type": "stream",
     "text": [
      "[11, 13, 15, 17, 19]\n"
     ]
    }
   ],
   "source": [
    "nieparzyste=[]\n",
    "for i in range(len(liczby)):\n",
    "               if liczby[i]%2==1:\n",
    "                nieparzyste+=[liczby[i],]\n",
    "print(nieparzyste)"
   ]
  },
  {
   "cell_type": "markdown",
   "metadata": {},
   "source": [
    "#### Zadanie 10\n",
    "\n",
    "Stwórz listę `duzo_liczb`, która będzie zawierała liczby od 0 do 1000 (włącznie)\n",
    "\n",
    "Policz ile z tych liczb jest podzielnych przez 7 i wypisz wynik"
   ]
  },
  {
   "cell_type": "code",
   "execution_count": 1,
   "metadata": {},
   "outputs": [
    {
     "name": "stdout",
     "output_type": "stream",
     "text": [
      "143\n"
     ]
    }
   ],
   "source": [
    "count=0\n",
    "duzo_liczb=[i for i in range(1001)]\n",
    "for i in duzo_liczb:\n",
    "    if i%7==0:\n",
    "        count+=1\n",
    "print(count)"
   ]
  }
 ],
 "metadata": {
  "kernelspec": {
   "display_name": "Python 3",
   "language": "python",
   "name": "python3"
  },
  "language_info": {
   "codemirror_mode": {
    "name": "ipython",
    "version": 3
   },
   "file_extension": ".py",
   "mimetype": "text/x-python",
   "name": "python",
   "nbconvert_exporter": "python",
   "pygments_lexer": "ipython3",
   "version": "3.10.4"
  },
  "vscode": {
   "interpreter": {
    "hash": "3ad933181bd8a04b432d3370b9dc3b0662ad032c4dfaa4e4f1596c548f763858"
   }
  }
 },
 "nbformat": 4,
 "nbformat_minor": 4
}
