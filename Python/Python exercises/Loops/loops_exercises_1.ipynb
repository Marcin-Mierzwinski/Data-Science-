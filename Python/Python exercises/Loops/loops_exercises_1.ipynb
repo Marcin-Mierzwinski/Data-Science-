{
 "cells": [
  {
   "cell_type": "markdown",
   "metadata": {},
   "source": [
    "#### Zadanie 1 - while\n",
    "\n",
    "Wyliczaj i wypisuj kolejne potęgi liczby 2 (od pierwszej)\n",
    "\n",
    "Przerwij, gdy wyliczona wartość jest większa niż 3000 (nie wypisuj jej już)\n",
    "\n",
    "Zrób to na dwa sposoby: (a) bez break, (b) z break"
   ]
  },
  {
   "cell_type": "code",
   "execution_count": 51,
   "metadata": {},
   "outputs": [
    {
     "name": "stdout",
     "output_type": "stream",
     "text": [
      "1\n",
      "2\n",
      "4\n",
      "8\n",
      "16\n",
      "32\n",
      "64\n",
      "128\n",
      "256\n",
      "512\n",
      "1024\n",
      "2048\n"
     ]
    }
   ],
   "source": [
    "\n",
    "x=1\n",
    "while x<= 3000:\n",
    "    print(x)\n",
    "    x*=2"
   ]
  },
  {
   "cell_type": "code",
   "execution_count": 59,
   "metadata": {},
   "outputs": [
    {
     "name": "stdout",
     "output_type": "stream",
     "text": [
      "1\n",
      "2\n",
      "4\n",
      "8\n",
      "16\n",
      "32\n",
      "64\n",
      "128\n",
      "256\n",
      "512\n",
      "1024\n",
      "2048\n"
     ]
    }
   ],
   "source": [
    "x=1\n",
    "while x:\n",
    "    print(x)\n",
    "    x*=2\n",
    "    if x>= 3000:\n",
    "        break"
   ]
  },
  {
   "cell_type": "markdown",
   "metadata": {},
   "source": [
    "#### Zadanie 2 - while\n",
    "\n",
    "Pobieraj w kółko tekst od użytkownika\n",
    "\n",
    "Wypisz to co wpisał, ale wielkimi literami\n",
    "\n",
    "Przerwij, gdy wpisze \"quit\" lub \"q\"\n",
    "\n",
    "Zrób to na dwa sposoby: (a) bez break, (b) z break"
   ]
  },
  {
   "cell_type": "code",
   "execution_count": 2,
   "metadata": {},
   "outputs": [
    {
     "name": "stdout",
     "output_type": "stream",
     "text": [
      "ala\n"
     ]
    }
   ],
   "source": [
    "x= input(\"Enter your text:\")\n",
    "while x:\n",
    "    print(x)\n",
    "    x=input('Enter your text:')\n",
    "    if x == 'q' or x == 'quit':\n",
    "        break\n",
    "    "
   ]
  },
  {
   "cell_type": "code",
   "execution_count": 2,
   "metadata": {},
   "outputs": [],
   "source": [
    "x= input(\"Enter your text:\").upper()\n",
    "while x!='Q' and x!='QUIT':\n",
    "    print(x)\n",
    "    x= input(\"Enter your text:\").upper()"
   ]
  },
  {
   "cell_type": "markdown",
   "metadata": {},
   "source": [
    "#### Zadanie 3 - for\n",
    "\n",
    "Przejdź przez zmienną `tekst` znak po znaku\n",
    "\n",
    "Za każdym razem gdy natrafisz na spację, wypisz \"Spacja!\""
   ]
  },
  {
   "cell_type": "code",
   "execution_count": 3,
   "metadata": {},
   "outputs": [
    {
     "name": "stdout",
     "output_type": "stream",
     "text": [
      "SPACJA!\n",
      "SPACJA!\n",
      "SPACJA!\n",
      "SPACJA!\n",
      "SPACJA!\n",
      "SPACJA!\n",
      "SPACJA!\n"
     ]
    }
   ],
   "source": [
    "tekst = \"Lorem ipsum dolor sit amet, consectetur adipiscing elit.\"\n",
    "for i in tekst:\n",
    "    if i==' ':\n",
    "        print('SPACJA!') "
   ]
  },
  {
   "cell_type": "markdown",
   "metadata": {},
   "source": [
    "#### Zadanie 4 - for\n",
    "\n",
    "Dla liczb z zakresu od 1 do 15 (włącznie)\n",
    "\n",
    "Wypisz ich wartość do drugiej potęgi"
   ]
  },
  {
   "cell_type": "code",
   "execution_count": 5,
   "metadata": {},
   "outputs": [
    {
     "name": "stdout",
     "output_type": "stream",
     "text": [
      "1\n",
      "4\n",
      "9\n",
      "16\n",
      "25\n",
      "36\n",
      "49\n",
      "64\n",
      "81\n",
      "100\n",
      "121\n",
      "144\n",
      "169\n",
      "196\n",
      "225\n"
     ]
    }
   ],
   "source": [
    "for i in range(1,16):\n",
    "    print(i**2)"
   ]
  }
 ],
 "metadata": {
  "kernelspec": {
   "display_name": "Python 3",
   "language": "python",
   "name": "python3"
  },
  "language_info": {
   "codemirror_mode": {
    "name": "ipython",
    "version": 3
   },
   "file_extension": ".py",
   "mimetype": "text/x-python",
   "name": "python",
   "nbconvert_exporter": "python",
   "pygments_lexer": "ipython3",
   "version": "3.10.4"
  },
  "vscode": {
   "interpreter": {
    "hash": "3ad933181bd8a04b432d3370b9dc3b0662ad032c4dfaa4e4f1596c548f763858"
   }
  }
 },
 "nbformat": 4,
 "nbformat_minor": 4
}
