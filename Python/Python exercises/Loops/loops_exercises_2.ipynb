{
 "cells": [
  {
   "cell_type": "markdown",
   "metadata": {},
   "source": [
    "#### Zadanie 1 - while\n",
    "\n",
    "Napisz mini-encyklopedię Trójmiasta\n",
    "\n",
    "Program powinien prosić użytkownika o podanie pojęcia dopóki nie wpisze on komendy \"**koniec**\". Wszystkie hasła i komendy powinny być obsługiwane niezależnie od wielkości liter.\n",
    "\n",
    "W odpowiedzi na znane hasła powinien wypisać odpowiednią informację (treść dowolna):\n",
    "\n",
    "Dla \"Gdańsk\" lub \"gdansk\":\n",
    "\n",
    "\"Miasto na prawach powiatu w północnej Polsce w województwie pomorskim, położone nad Morzem Bałtyckim u ujścia Motławy do Wisły nad Zatoką Gdańską.\"\n",
    "\n",
    "Dla \"Sopot\":\n",
    "\n",
    "\"Najdłuższe drewniane molo w Europie i kluby.\"\n",
    "\n",
    "Dla \"Gdynia\":\n",
    "\n",
    "\"Contrast Cafe i Teatr Muzyczny!\"\n",
    "\n",
    "Dla wszystkich innych haseł:\n",
    "\n",
    "\"Przepraszam, nie mam informacji na ten temat.\""
   ]
  },
  {
   "cell_type": "code",
   "execution_count": 17,
   "metadata": {},
   "outputs": [
    {
     "name": "stdout",
     "output_type": "stream",
     "text": [
      "Przeprasza, nie mam inforacji na ten temat\n"
     ]
    }
   ],
   "source": [
    "while True:\n",
    "    haslo = input('Wprowadź nazwę miasta:/n').lower()\n",
    "    if haslo == \"koniec\":\n",
    "        break\n",
    "    elif haslo == \"gdańsk\" or haslo == \"gdansk\":\n",
    "        print((\"Miasto na prawach powiatu w północnej Polsce w województwie pomorskim, \"\n",
    "               \"położone nad Morzem Bałtyckim u ujścia Motławy do Wisły nad Zatoką Gdańską.\"))\n",
    "    else:\n",
    "        print(\"Przeprasza, nie mam inforacji na ten temat\")"
   ]
  },
  {
   "cell_type": "markdown",
   "metadata": {},
   "source": [
    "#### Zadanie 2 - while\n",
    "\n",
    "Wypisz liczby należące do ciągu Fibonacciego mniejsze od 100\n",
    "\n",
    "https://pl.wikipedia.org/wiki/Ciąg_Fibonacciego"
   ]
  },
  {
   "cell_type": "code",
   "execution_count": 22,
   "metadata": {},
   "outputs": [
    {
     "name": "stdout",
     "output_type": "stream",
     "text": [
      "0\n",
      "1\n",
      "1\n",
      "2\n",
      "3\n",
      "5\n",
      "8\n",
      "13\n",
      "21\n",
      "34\n",
      "55\n",
      "89\n"
     ]
    }
   ],
   "source": [
    "previous= 0\n",
    "current = 1\n",
    "print(previous)\n",
    "\n",
    "while current<100:\n",
    "    print(current)\n",
    "    next_num= current + previous\n",
    "    previous=current\n",
    "    current=next_num\n",
    "    \n",
    "    "
   ]
  },
  {
   "cell_type": "markdown",
   "metadata": {},
   "source": [
    "#### Zadanie 3 - while\n",
    "\n",
    "Do programu echo v2 (z arkusza loops) dopisz wersję premium\n",
    "\n",
    "W normalnym trybie program powinien powtarzać to co wpisze użytkownik.\n",
    "\n",
    "Po wpisaniu tajnego hasła, np. \"tajny-kod-premium-2019\", program będzie wypisywał bardziej skomplikowane echo:\n",
    "\n",
    "**całość tekstu, całośc tekstu małymi literami, połowa tekstu małymi literami, 1/4 tekstu małymi literami, \"...\"**\n",
    "\n",
    "Wszystko rozdzielone spacją, długości fragmentów zaokrąglone w dół\n",
    "\n",
    "Np.: na hasło \"Echo\"\n",
    "\n",
    "\"Echo echo ec e ...\"\n",
    "\n",
    "na hasło \"Ala ma kota\"\n",
    "\n",
    "\"Ala ma kota ala ma kota ala m al ...\"\n",
    "\n",
    "na hasło \"AA\"\n",
    "\n",
    "\"AA aa a <puste> ...\""
   ]
  },
  {
   "cell_type": "code",
   "execution_count": null,
   "metadata": {},
   "outputs": [],
   "source": []
  },
  {
   "cell_type": "markdown",
   "metadata": {},
   "source": [
    "#### Zadanie 4 - for\n",
    "\n",
    "Dla liczb od 1 do 100 (włacznie)\n",
    "\n",
    "Jeśli podzielna tylko przez 3 to napisz Fizz\n",
    "\n",
    "Jeśli podzilena tylko przez 5 to napisz Buzz\n",
    "\n",
    "Jeśli podzielna przez 3 i przez 5 to napisz FizzBuzz"
   ]
  },
  {
   "cell_type": "code",
   "execution_count": 28,
   "metadata": {},
   "outputs": [
    {
     "name": "stdout",
     "output_type": "stream",
     "text": [
      "1\n",
      "2\n",
      "Fizz\n",
      "4\n",
      "Buzz\n",
      "Fizz\n",
      "7\n",
      "8\n",
      "Fizz\n",
      "Buzz\n",
      "11\n",
      "Fizz\n",
      "13\n",
      "14\n",
      "FizzBuzz\n",
      "16\n",
      "17\n",
      "Fizz\n",
      "19\n",
      "Buzz\n",
      "Fizz\n",
      "22\n",
      "23\n",
      "Fizz\n",
      "Buzz\n",
      "26\n",
      "Fizz\n",
      "28\n",
      "29\n",
      "FizzBuzz\n",
      "31\n",
      "32\n",
      "Fizz\n",
      "34\n",
      "Buzz\n",
      "Fizz\n",
      "37\n",
      "38\n",
      "Fizz\n",
      "Buzz\n",
      "41\n",
      "Fizz\n",
      "43\n",
      "44\n",
      "FizzBuzz\n",
      "46\n",
      "47\n",
      "Fizz\n",
      "49\n",
      "Buzz\n",
      "Fizz\n",
      "52\n",
      "53\n",
      "Fizz\n",
      "Buzz\n",
      "56\n",
      "Fizz\n",
      "58\n",
      "59\n",
      "FizzBuzz\n",
      "61\n",
      "62\n",
      "Fizz\n",
      "64\n",
      "Buzz\n",
      "Fizz\n",
      "67\n",
      "68\n",
      "Fizz\n",
      "Buzz\n",
      "71\n",
      "Fizz\n",
      "73\n",
      "74\n",
      "FizzBuzz\n",
      "76\n",
      "77\n",
      "Fizz\n",
      "79\n",
      "Buzz\n",
      "Fizz\n",
      "82\n",
      "83\n",
      "Fizz\n",
      "Buzz\n",
      "86\n",
      "Fizz\n",
      "88\n",
      "89\n",
      "FizzBuzz\n",
      "91\n",
      "92\n",
      "Fizz\n",
      "94\n",
      "Buzz\n",
      "Fizz\n",
      "97\n",
      "98\n",
      "Fizz\n",
      "Buzz\n"
     ]
    }
   ],
   "source": [
    "for i in range(1, 101):\n",
    "    if i%3==0 and i%5==0:\n",
    "        print('FizzBuzz')\n",
    "    elif i % 3 == 0:\n",
    "        print('Fizz')\n",
    "    elif i % 5 == 0:\n",
    "        print('Buzz')\n",
    "    else:\n",
    "        print(i)\n"
   ]
  },
  {
   "cell_type": "markdown",
   "metadata": {},
   "source": [
    "#### Zadanie 5 - for\n",
    "\n",
    "Napisz licznik litery \"a\" w tekscie\n",
    "\n",
    "Program powinien przyjąć od użytkownika dowolny tekst, a następnie wypisać liczbę wystąpień znaku \"a\" (tylko małej)\n",
    "\n",
    "Zadanie zrealizuj przy pomocy pętli `for`"
   ]
  },
  {
   "cell_type": "code",
   "execution_count": 6,
   "metadata": {},
   "outputs": [
    {
     "name": "stdout",
     "output_type": "stream",
     "text": [
      "Ala ma kota, a Ola ma psa.\n",
      "7\n"
     ]
    }
   ],
   "source": [
    "tekst=input('Wpisz swój tekst:/n')\n",
    "licznik=0\n",
    "for znak in tekst:\n",
    "    if znak==\"a\":\n",
    "        licznik+=1\n",
    "print(tekst)\n",
    "print(licznik)\n"
   ]
  },
  {
   "cell_type": "markdown",
   "metadata": {},
   "source": [
    "#### Zadanie 6 - for\n",
    "\n",
    "Napisz program który zobrazuje indeksowanie stringów\n",
    "\n",
    "Program powinien przyjąć od użytkownika dowolny tekst, a następnie wypisać co linię kolejny znak w cudzysłowie, jego indeks dodatni i indeks ujemny\n",
    "\n",
    "Np.:\n",
    "\n",
    "Podaj tekst:\n",
    "```\n",
    "rafal\n",
    "\"r\" 0 -5\n",
    "\"a\" 1 -4\n",
    "\"f\" 2 -3\n",
    "\"a\" 3 -2\n",
    "\"l\" 4 -1\n",
    "```"
   ]
  },
  {
   "cell_type": "code",
   "execution_count": 10,
   "metadata": {},
   "outputs": [
    {
     "name": "stdout",
     "output_type": "stream",
     "text": [
      "{'W'} {0} {-11}\n",
      "{'ł'} {1} {-10}\n",
      "{'o'} {2} {-9}\n",
      "{'d'} {3} {-8}\n",
      "{'z'} {4} {-7}\n",
      "{'i'} {5} {-6}\n",
      "{'m'} {6} {-5}\n",
      "{'i'} {7} {-4}\n",
      "{'e'} {8} {-3}\n",
      "{'r'} {9} {-2}\n",
      "{'z'} {10} {-1}\n"
     ]
    }
   ],
   "source": [
    "tekst=input('Wpisz swój tekst:/n')\n",
    "for i in range(len(tekst)):\n",
    "    print({tekst[i]}, {i}, {i-len(tekst)})\n",
    "    "
   ]
  },
  {
   "cell_type": "markdown",
   "metadata": {},
   "source": [
    "#### Zadanie 7\n",
    "\n",
    "Przyjmij dowolny tekst od użytkownika\n",
    "\n",
    "Policz ile jest samogłosek, a ile spółgłosek i wypisz wynik"
   ]
  },
  {
   "cell_type": "code",
   "execution_count": 1,
   "metadata": {},
   "outputs": [
    {
     "name": "stdout",
     "output_type": "stream",
     "text": [
      "kasia lubi małe kotki.\n",
      "9\n",
      "9\n"
     ]
    }
   ],
   "source": [
    "samogloski=('a','e','i','o','u', 'ó','y','ą','ę')\n",
    "spolgloski=('b','c','ć','d','f','g', 'h','j', 'k', 'l', 'ł','m', 'n', 'ń', 'p', 'r', 's', 'ś', 't', 'w', 'z', 'ź', 'ż') \n",
    "sa_count=0\n",
    "sp_count=0\n",
    "tekst=input('Wpisz swój tekst:/n').lower()\n",
    "for i in range(len(tekst)):\n",
    "    if tekst[i] in samogloski:\n",
    "        sa_count+=1\n",
    "    elif tekst[i] in spolgloski:\n",
    "        sp_count+=1\n",
    "print(tekst)\n",
    "print(sa_count)\n",
    "print(sp_count)"
   ]
  },
  {
   "cell_type": "markdown",
   "metadata": {},
   "source": [
    "#### Zadanie 8\n",
    "\n",
    "Pobierz liczbę od użytkownika (upewnij się, że faktycznie jest to liczba)\n",
    "\n",
    "Wymaluj piramidę tej wysokości z liter \"M\"\n",
    "\n",
    "Np.: dla liczby 4\n",
    "\n",
    "```\n",
    "   M\n",
    "  MMM\n",
    " MMMMM\n",
    "MMMMMMM\n",
    "```"
   ]
  },
  {
   "cell_type": "code",
   "execution_count": 45,
   "metadata": {},
   "outputs": [
    {
     "name": "stdout",
     "output_type": "stream",
     "text": [
      "    M     \n",
      "   MMM    \n",
      "  MMMMM   \n",
      " MMMMMMM  \n",
      "MMMMMMMMM \n"
     ]
    }
   ],
   "source": [
    "txt='M'\n",
    "while True:\n",
    "    try:\n",
    "        num = 2*int(input('Podaj liczbę naturalną:'))\n",
    "        for i in range(1,num,2):\n",
    "            piramida=txt.center(i,'M')\n",
    "            print(piramida.center(num,' '))\n",
    "        break\n",
    "    except ValueError:\n",
    "        print('Błędne dane. Wpisz liczbę naturalną.')\n",
    "\n",
    "        \n",
    "\n",
    "\n",
    "    "
   ]
  }
 ],
 "metadata": {
  "kernelspec": {
   "display_name": "Python 3",
   "language": "python",
   "name": "python3"
  },
  "language_info": {
   "codemirror_mode": {
    "name": "ipython",
    "version": 3
   },
   "file_extension": ".py",
   "mimetype": "text/x-python",
   "name": "python",
   "nbconvert_exporter": "python",
   "pygments_lexer": "ipython3",
   "version": "3.10.4"
  },
  "vscode": {
   "interpreter": {
    "hash": "3ad933181bd8a04b432d3370b9dc3b0662ad032c4dfaa4e4f1596c548f763858"
   }
  }
 },
 "nbformat": 4,
 "nbformat_minor": 4
}
