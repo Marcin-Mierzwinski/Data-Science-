{
 "cells": [
  {
   "cell_type": "markdown",
   "metadata": {},
   "source": [
    "#### Zadanie 1\n",
    "\n",
    "Napisz funkcję `wypisz_powitanie`, która jako argument przyjmie imie i wypisze (wypisze, nie zwróci) tekst: \"Miło Cię widzieć `imie`!\"\n",
    "\n",
    "Zadbaj o wielką literę!\n",
    "\n",
    "Np. dla `imie=\"marian\"`\n",
    "\n",
    "```\n",
    "\"Miło Cię widzieć Marian!\"\n",
    "```"
   ]
  },
  {
   "cell_type": "code",
   "execution_count": null,
   "metadata": {},
   "outputs": [],
   "source": []
  },
  {
   "cell_type": "markdown",
   "metadata": {},
   "source": [
    "#### Zadanie 2\n",
    "\n",
    "Ulepsz funkcję `wypisz_powitanie` dodając zmienną opcjonalną `nieformalnie`, z domyślną wartością `False`\n",
    "\n",
    "Funkcja wywołana z opcją `nieformalnie=True` powinna wypisać \"Siemasz `imie`!\"\n",
    "\n",
    "Np. dla `imie=\"marian\"` i `nieformalnie=False`\n",
    "\n",
    "```\n",
    "\"Miło Cię widzieć Marian!\"\n",
    "```\n",
    "\n",
    "Np. dla `imie=\"marian\"` i `nieformalnie=True`\n",
    "\n",
    "```\n",
    "\"Siemasz Marian!\"\n",
    "```"
   ]
  },
  {
   "cell_type": "code",
   "execution_count": null,
   "metadata": {},
   "outputs": [],
   "source": []
  },
  {
   "cell_type": "markdown",
   "metadata": {},
   "source": [
    "#### Zadanie 3\n",
    "\n",
    "Napisz funkcję wyliczająca i zwracającą objętość stożka\n",
    "\n",
    "Wykonaj funkcję dla wszystkich par wartości r i h z listy `stozki`"
   ]
  },
  {
   "cell_type": "code",
   "execution_count": null,
   "metadata": {},
   "outputs": [],
   "source": [
    "stozki = [\n",
    "    (10, 5),\n",
    "    (15, 5),\n",
    "    (5, 10),\n",
    "    (5, 15)\n",
    "]"
   ]
  },
  {
   "cell_type": "markdown",
   "metadata": {},
   "source": [
    "#### Zadanie 4\n",
    "\n",
    "Napisz funkcję sprawdzającą, czy podana liczba jest w wymaganym zakresie. Niech domyślny zakres wynosi (0, 100)\n",
    "\n",
    "Niech zwraca `True` albo `False`\n",
    "\n",
    "Liczbę pobierz od użytkownika, a następnie sprawdź dla zakresów z listy:"
   ]
  },
  {
   "cell_type": "code",
   "execution_count": null,
   "metadata": {},
   "outputs": [],
   "source": [
    "zakresy = [range(0, 10), range(0, 150), range(30, 50)]"
   ]
  },
  {
   "cell_type": "markdown",
   "metadata": {},
   "source": [
    "#### Zadanie 5\n",
    "\n",
    "Napisz funkcję zwracającą ocenę jako typ string, na podstawie wyniku w postaci wartości liczbowej (0 .. 100)\n",
    "\n",
    "'bardzo dobry' od 90, 'dobry+' od 80, 'dobry' od 70, 'dostateczny+' od 60, 'dostateczny' od 50, 'niedostateczny' dla mniej niż 50\n",
    "\n",
    "Wypisz wartości dla wyników z listy"
   ]
  },
  {
   "cell_type": "code",
   "execution_count": null,
   "metadata": {},
   "outputs": [],
   "source": [
    "wyniki = [65, 76, 43, 10, 90, 94]"
   ]
  },
  {
   "cell_type": "markdown",
   "metadata": {},
   "source": [
    "#### Zadanie 6\n",
    "\n",
    "Lista `kursanci` zwiera imiona kursantów, a `sprawdzian` ich wyniki ze sprawdzianu\n",
    "\n",
    "Stwórz nową listę, której elementy będą tuplami z dwoma elementami - imieniem i słowną oceną\n",
    "\n",
    "Ocenę uzyskaj przy pomocy swojej funkcji z zadania 5\n",
    "\n",
    "Np. dla `imiona = [\"Anna\", \"Bartosz\"]` i `sprawdzian = [85, 45]`\n",
    "\n",
    "```\n",
    "[(\"Anna\", \"dobry+\"),\n",
    " (\"Bartosz\", \"niedostateczny\")]\n",
    "```"
   ]
  },
  {
   "cell_type": "code",
   "execution_count": null,
   "metadata": {},
   "outputs": [],
   "source": [
    "kursanci = [\"Anna\", \"Jurek\", \"Beata\", \"Jarek\", \"Patrycja\", \"Arkadiusz\"]\n",
    "sprawdzian = [35, 78, 92, 45, 55, 80]"
   ]
  },
  {
   "cell_type": "markdown",
   "metadata": {},
   "source": [
    "#### Zadanie 7\n",
    "\n",
    "Napisz funkcję `all_unique`, która przyjmie listę dowolnych elementów i zwróci wartość `True` jeżeli lista nie zawiera duplikatów lub `False` w przeciwnym wypadku\n",
    "\n",
    "Np. dla listy `[1, 3, \"a\"]` wynik będzie `True`\n",
    "\n",
    "a dla listy `[1, 3, \"a\", 1]` wynik będzie `False`\n",
    "\n",
    "Przetestuj dla poniższych list"
   ]
  },
  {
   "cell_type": "code",
   "execution_count": null,
   "metadata": {},
   "outputs": [],
   "source": [
    "lista_a = [23, 45, 67, 67, \"qw\", \"er\", \"ty\", \"qw\"]\n",
    "lista_b = [23, 23, 45, 67, \"qw\", \"er\", \"ty\"]\n",
    "lista_c = [23, 45, 67, \"qw\", \"er\", \"ty\"]"
   ]
  },
  {
   "cell_type": "markdown",
   "metadata": {},
   "source": [
    "#### Zadanie 8\n",
    "\n",
    "Napisz funkcję `cenzura`, która podmieni wszystkie wystąpienia danego słowa w tekście na \"###\"\n",
    "\n",
    "Tzn. funkcja powinna przyjmować jako argumenty: `tekst`, `slowo` i zwrócić nowy tekst ze slowem zamienionym na trzy kratki\n",
    "\n",
    "Np. dla tekstu `\"Lorem ipsum.\"` i slowa `\"ipsum\"`\n",
    "\n",
    "Nowy tekst to `\"Lorem ###.\"`"
   ]
  },
  {
   "cell_type": "code",
   "execution_count": null,
   "metadata": {},
   "outputs": [],
   "source": []
  },
  {
   "cell_type": "markdown",
   "metadata": {},
   "source": [
    "#### Zadanie 9\n",
    "\n",
    "Ulepsz funkcję `cenzura`, tak aby liczba wstawionych kratek odpowiadała długości argumentu `slowo`\n",
    "\n",
    "Np. dla tekstu `\"Lorem ipsum.\"` i slowa `\"ipsum\"`\n",
    "\n",
    "Nowy tekst to `\"Lorem #####.\"`"
   ]
  },
  {
   "cell_type": "code",
   "execution_count": null,
   "metadata": {},
   "outputs": [],
   "source": []
  },
  {
   "cell_type": "markdown",
   "metadata": {},
   "source": [
    "#### Zadanie 10\n",
    "\n",
    "Dodaj kolejne ulepszenie funkcji `cenzura`\n",
    "\n",
    "Niech znak który zastępuje słowo będzie opcjonalnym argumentem funkcji z domyślną wartością `#`\n",
    "\n",
    "Np. dla tekstu `\"Lorem ipsum.\"` i slowa `\"ipsum\"` i bez podawania znaku\n",
    "\n",
    "Nowy tekst to `\"Lorem #####.\"`\n",
    "\n",
    "Np. dla tekstu `\"Lorem ipsum.\"` i slowa `\"ipsum\"` i z podaniem, że znak to `\"$\"`\n",
    "\n",
    "Nowy tekst to `\"Lorem $$$$$.\"`"
   ]
  },
  {
   "cell_type": "code",
   "execution_count": null,
   "metadata": {},
   "outputs": [],
   "source": []
  },
  {
   "cell_type": "markdown",
   "metadata": {},
   "source": [
    "#### Zadanie 11\n",
    "\n",
    "Dodaj kolejne ulepszenie funkcji `cenzura`\n",
    "\n",
    "Niech będzie możliwość podania listy słów które mają zostać zastąpione\n",
    "\n",
    "Tzn. funkcja powinna przyjmować jako argumenty: `tekst`, `lista_slow`, (i opcjonalny `znak`) i zwrócić nowy tekst ze wszystkimi słowami z listy odpowiednio zamienionymi\n",
    "\n",
    "Np. dla tekstu `\"lorem ipsum dolor sit amet\"` i `lista_slow=[\"lorem\", \"sit\"]`\n",
    "\n",
    "Nowy tekst to `\"##### ipsum dolor ### amet\"`"
   ]
  },
  {
   "cell_type": "code",
   "execution_count": null,
   "metadata": {},
   "outputs": [],
   "source": []
  },
  {
   "cell_type": "markdown",
   "metadata": {},
   "source": [
    "#### Zadanie 12\n",
    "\n",
    "Napisz funkcję `replace_many`, która podmieni wszystkie wystąpienia słów przekazanych jako lista\n",
    "\n",
    "Tzn. funkcja powinna przyjmować jako argumenty: `tekst`, `lista_starych`, `lista_nowych`, i zwrócić nowy tekst z dokonanymi podmianami\n",
    "\n",
    "Np. dla tekstu `\"Ala ma kota.\"`, list `stare=[\"Ala\", \"kota\"]` i `nowe=[\"Edyta\", \"psa\"]`\n",
    "\n",
    "Nowy tekst to : `\"Edyta ma psa.\"`"
   ]
  },
  {
   "cell_type": "code",
   "execution_count": null,
   "metadata": {},
   "outputs": [],
   "source": []
  },
  {
   "cell_type": "markdown",
   "metadata": {},
   "source": [
    "#### Zadanie 13\n",
    "\n",
    "Ulepsz funkcję `replace_many` dodając sprawdzenie, czy listy są równej długości\n",
    "\n",
    "Jeżeli nie, wypisz komunikat i zwróć wartość `None`\n"
   ]
  },
  {
   "cell_type": "code",
   "execution_count": null,
   "metadata": {},
   "outputs": [],
   "source": []
  }
 ],
 "metadata": {
  "kernelspec": {
   "display_name": "Python 3",
   "language": "python",
   "name": "python3"
  },
  "language_info": {
   "codemirror_mode": {
    "name": "ipython",
    "version": 3
   },
   "file_extension": ".py",
   "mimetype": "text/x-python",
   "name": "python",
   "nbconvert_exporter": "python",
   "pygments_lexer": "ipython3",
   "version": "3.7.6"
  }
 },
 "nbformat": 4,
 "nbformat_minor": 4
}
