{
 "cells": [
  {
   "cell_type": "markdown",
   "metadata": {},
   "source": [
    "#### Zadanie 1\n",
    "\n",
    "Zdefiniuj funkcję `separator`, która zwróci string \"-----#####-----\"\n",
    "\n",
    "(Zwróci, a nie wypisze)"
   ]
  },
  {
   "cell_type": "code",
   "execution_count": 16,
   "metadata": {},
   "outputs": [],
   "source": [
    "def separator():\n",
    "    return \"-----#####-----\""
   ]
  },
  {
   "cell_type": "markdown",
   "metadata": {},
   "source": [
    "#### Zadanie 2\n",
    "\n",
    "Wypisz liczby od 1 do 10 (włącznie) oddzielone separatorem (każdy element w nowej linii). Separator pobierz ze swojej funkcji.\n",
    "\n",
    "```\n",
    "1\n",
    "-----#####-----\n",
    "2\n",
    "-----#####-----\n",
    "...\n",
    "```"
   ]
  },
  {
   "cell_type": "code",
   "execution_count": 18,
   "metadata": {},
   "outputs": [
    {
     "name": "stdout",
     "output_type": "stream",
     "text": [
      "0\n",
      "-----#####-----\n",
      "1\n",
      "-----#####-----\n",
      "2\n",
      "-----#####-----\n",
      "3\n",
      "-----#####-----\n",
      "4\n",
      "-----#####-----\n",
      "5\n",
      "-----#####-----\n",
      "6\n",
      "-----#####-----\n",
      "7\n",
      "-----#####-----\n",
      "8\n",
      "-----#####-----\n",
      "9\n",
      "-----#####-----\n",
      "10\n",
      "-----#####-----\n"
     ]
    }
   ],
   "source": [
    "for i in range(11):\n",
    "    print(i)\n",
    "    print(separator())"
   ]
  },
  {
   "cell_type": "markdown",
   "metadata": {},
   "source": [
    "#### Zadanie 3\n",
    "\n",
    "Zdefinuj funkcję `do_kwadratu`, która przyjmie liczbę i zwróci jej wartość podniesioną do drugiej potęgi"
   ]
  },
  {
   "cell_type": "code",
   "execution_count": 19,
   "metadata": {},
   "outputs": [],
   "source": [
    "def do_kwadratu(x): return x**2\n",
    "    "
   ]
  },
  {
   "cell_type": "code",
   "execution_count": 22,
   "metadata": {},
   "outputs": [
    {
     "data": {
      "text/plain": [
       "9"
      ]
     },
     "execution_count": 22,
     "metadata": {},
     "output_type": "execute_result"
    }
   ],
   "source": [
    "do_kwadratu(-3)"
   ]
  },
  {
   "cell_type": "markdown",
   "metadata": {},
   "source": [
    "#### Zadanie 4\n",
    "\n",
    "Wypisz wyniki działania funkcji `do_kwadratu` na liczbach z listy"
   ]
  },
  {
   "cell_type": "code",
   "execution_count": 24,
   "metadata": {},
   "outputs": [
    {
     "name": "stdout",
     "output_type": "stream",
     "text": [
      "1\n",
      "4\n",
      "9\n",
      "16\n",
      "25\n"
     ]
    }
   ],
   "source": [
    "liczby = list(range(1, 6))\n",
    "for i in liczby:\n",
    "    print(do_kwadratu(i))"
   ]
  },
  {
   "cell_type": "markdown",
   "metadata": {},
   "source": [
    "#### Zadanie 5\n",
    "\n",
    "Zdefinuj funkcje `pole_trojkata`, która przyjmie wartość podstawy i wysokość trójkąta i zwróci jego pole.\n",
    "\n",
    "Wykorzystaj funkcję pole_trojkata dla wartości `a` i `h`"
   ]
  },
  {
   "cell_type": "code",
   "execution_count": 25,
   "metadata": {},
   "outputs": [],
   "source": [
    "a = 10\n",
    "h = 8\n",
    "def pole_trojkata(x,y): return 0.5*x*y"
   ]
  },
  {
   "cell_type": "code",
   "execution_count": 26,
   "metadata": {},
   "outputs": [
    {
     "data": {
      "text/plain": [
       "40.0"
      ]
     },
     "execution_count": 26,
     "metadata": {},
     "output_type": "execute_result"
    }
   ],
   "source": [
    "pole_trojkata(a,h)"
   ]
  },
  {
   "cell_type": "markdown",
   "metadata": {},
   "source": [
    "#### Zadanie 6\n",
    "\n",
    "Wykorzystaj funkcję pole_trojkata dla danych w postaci pary (podstawa, wysokość)"
   ]
  },
  {
   "cell_type": "code",
   "execution_count": 28,
   "metadata": {},
   "outputs": [
    {
     "data": {
      "text/plain": [
       "40.0"
      ]
     },
     "execution_count": 28,
     "metadata": {},
     "output_type": "execute_result"
    }
   ],
   "source": [
    "dane = (10, 8)\n",
    "pole_trojkata(dane[0],dane[1])"
   ]
  },
  {
   "cell_type": "markdown",
   "metadata": {},
   "source": [
    "#### Zadanie 7\n",
    "\n",
    "Ulepsz funkcję `pole_trojkata` dodając sprawdzenie, czy podane liczby są większe od zera\n",
    "\n",
    "Jeżeli nie, wypisz komunikat i zwróć `None`\n",
    "\n",
    "Przetestuj na różnych wariantach"
   ]
  },
  {
   "cell_type": "code",
   "execution_count": 29,
   "metadata": {},
   "outputs": [],
   "source": [
    "def pole_trojkata(x,y): \n",
    "    if x>0 and y>0:\n",
    "        return 0.5*x*y\n",
    "    else: print(\"Błędne dane\")"
   ]
  },
  {
   "cell_type": "code",
   "execution_count": 33,
   "metadata": {},
   "outputs": [
    {
     "data": {
      "text/plain": [
       "1.0"
      ]
     },
     "execution_count": 33,
     "metadata": {},
     "output_type": "execute_result"
    }
   ],
   "source": [
    "pole_trojkata(2,1)"
   ]
  },
  {
   "cell_type": "markdown",
   "metadata": {},
   "source": [
    "#### Zadanie 8\n",
    "\n",
    "Ulepsz funkcje `pole_trojkata` raz jeszcze:\n",
    "\n",
    "Dodaj opcjonalny argument `verbose` o domyślnej wartości `False`.\n",
    "\n",
    "Użyj go do sprawdzenia, czy w przypadku liczb mniejszych od zera wypisać komunikat, czy nie.\n",
    "\n",
    "Uwaga - jeżeli mniejsze od zera, dalej zwróć `None`, ale bez wypisywania komunikatu."
   ]
  },
  {
   "cell_type": "code",
   "execution_count": null,
   "metadata": {},
   "outputs": [],
   "source": []
  },
  {
   "cell_type": "code",
   "execution_count": null,
   "metadata": {},
   "outputs": [],
   "source": []
  }
 ],
 "metadata": {
  "kernelspec": {
   "display_name": "Python 3",
   "language": "python",
   "name": "python3"
  },
  "language_info": {
   "codemirror_mode": {
    "name": "ipython",
    "version": 3
   },
   "file_extension": ".py",
   "mimetype": "text/x-python",
   "name": "python",
   "nbconvert_exporter": "python",
   "pygments_lexer": "ipython3",
   "version": "3.10.4"
  },
  "vscode": {
   "interpreter": {
    "hash": "3ad933181bd8a04b432d3370b9dc3b0662ad032c4dfaa4e4f1596c548f763858"
   }
  }
 },
 "nbformat": 4,
 "nbformat_minor": 4
}
