{
 "cells": [
  {
   "cell_type": "markdown",
   "metadata": {},
   "source": [
    "#### Zadanie 1\n",
    "\n",
    "Napisz funkcje `na_slowa`, która przyjmie tekst (string) i zwróci listę słów"
   ]
  },
  {
   "cell_type": "code",
   "execution_count": 11,
   "metadata": {},
   "outputs": [
    {
     "data": {
      "text/plain": [
       "['Python', 'jest', 'w', 'dechę']"
      ]
     },
     "execution_count": 11,
     "metadata": {},
     "output_type": "execute_result"
    }
   ],
   "source": [
    "def na_slowa(tekst):\n",
    "    lista=tekst.split( )\n",
    "    return lista\n",
    "na_slowa(\"Python jest w dechę\")"
   ]
  },
  {
   "cell_type": "markdown",
   "metadata": {},
   "source": [
    "#### Zadanie 2\n",
    "\n",
    "Napisz funkcje `wielkie_slowa`, która przyjmie tekst (string) i zwróci listę wszystkoch słów, ale pisanych wielkimi literami"
   ]
  },
  {
   "cell_type": "code",
   "execution_count": 13,
   "metadata": {},
   "outputs": [
    {
     "data": {
      "text/plain": [
       "['PYTHON', 'JEST', 'W', 'DECHĘ']"
      ]
     },
     "execution_count": 13,
     "metadata": {},
     "output_type": "execute_result"
    }
   ],
   "source": [
    "def na_slowa(tekst):\n",
    "    lista=tekst.upper().split( )\n",
    "    return lista\n",
    "na_slowa(\"Python jest w dechę\")"
   ]
  },
  {
   "cell_type": "markdown",
   "metadata": {},
   "source": [
    "#### Zadanie 3\n",
    "\n",
    "Ulepsz funkcje `wielkie_slowa` - zadbaj o usunięcie takich znaków: \".\" \",\" \"!\" \"?\""
   ]
  },
  {
   "cell_type": "code",
   "execution_count": 6,
   "metadata": {},
   "outputs": [
    {
     "data": {
      "text/plain": [
       "['PYTHON', 'JEST', 'W', 'DECHĘ']"
      ]
     },
     "execution_count": 6,
     "metadata": {},
     "output_type": "execute_result"
    }
   ],
   "source": [
    "def na_slowa(tekst):\n",
    "    for i in znaki_spec:\n",
    "        tekst=tekst.replace(i,\"\")\n",
    "    lista=tekst.upper().split( )\n",
    "    return lista\n",
    "na_slowa(\"Python jest w dechę!\")"
   ]
  },
  {
   "cell_type": "markdown",
   "metadata": {},
   "source": [
    "#### Zadanie 4\n",
    "\n",
    "Wykorzystaj funkcję `wielkie_slowa`, żeby dodać słowa tekstu do listy\n",
    "\n",
    "(ale nie modyfikuj tej funkcji)"
   ]
  },
  {
   "cell_type": "code",
   "execution_count": 12,
   "metadata": {},
   "outputs": [
    {
     "name": "stdout",
     "output_type": "stream",
     "text": [
      "['CONVERT', 'A', 'TUPLE', 'TO', 'A', 'LIST', 'IMAGE', 'NOT', 'LOADING', 'IN', 'PYTHON', 'RASPBIAN']\n"
     ]
    }
   ],
   "source": [
    "tekst = \"Image not loading in python raspbian.\"\n",
    "slowa = [\"CONVERT\", \"A\", \"TUPLE\", \"TO\", \"A\", \"LIST\"]\n",
    "slowa+=na_slowa(tekst)\n",
    "print(slowa)"
   ]
  },
  {
   "cell_type": "markdown",
   "metadata": {},
   "source": [
    "#### Zadanie 5\n",
    "\n",
    "Napisz funkcję `dodaj_slowa`, która przyjmie tekst i listę, do której słowa tekstu zostaną dodane"
   ]
  },
  {
   "cell_type": "code",
   "execution_count": 14,
   "metadata": {},
   "outputs": [
    {
     "name": "stdout",
     "output_type": "stream",
     "text": [
      "['CONVERT', 'A', 'TUPLE', 'TO', 'A', 'LIST', 'IMAGE', 'NOT', 'LOADING', 'IN', 'PYTHON', 'RASPBIAN']\n"
     ]
    }
   ],
   "source": [
    "tekst = \"Image not loading in python raspbian.\"\n",
    "slowa = [\"CONVERT\", \"A\", \"TUPLE\", \"TO\", \"A\", \"LIST\"]\n",
    "def na_slowa(tekst, lista0):\n",
    "    for i in znaki_spec:\n",
    "        tekst=tekst.replace(i,\"\")\n",
    "    lista=tekst.upper().split( )\n",
    "    lista0+=lista\n",
    "    return lista0\n",
    "print(na_slowa(tekst, slowa))"
   ]
  },
  {
   "cell_type": "markdown",
   "metadata": {},
   "source": [
    "#### Zadanie 6\n",
    "\n",
    "Napisz funkcję `preprocessing`, która przyjmie listę liczb i zwróci listę (**nową**) bez ujemnych elementów"
   ]
  },
  {
   "cell_type": "code",
   "execution_count": 25,
   "metadata": {},
   "outputs": [
    {
     "name": "stdout",
     "output_type": "stream",
     "text": [
      "[10, 32, 454, 31, -3, 53, -31, -9594, 31314, 53, 10]\n"
     ]
    }
   ],
   "source": [
    "data=[10, 32, 454, 31, -3, 53, -31, -54, -9594, 31314, 53, 10]\n",
    "\n",
    "data.pop(data.index(-54))\n",
    "print(data)"
   ]
  },
  {
   "cell_type": "code",
   "execution_count": 30,
   "metadata": {},
   "outputs": [
    {
     "data": {
      "text/plain": [
       "[10, 32, 454, 31, 53, -9594, 31314, 53, 10]"
      ]
     },
     "execution_count": 30,
     "metadata": {},
     "output_type": "execute_result"
    }
   ],
   "source": [
    "dane = [10, 32, 454, 31, -3, 53, -31, -9594, 31314, 53, 10,-54]\n",
    "def preprocessing(lista):\n",
    "    for i in lista:\n",
    "        if i<0:\n",
    "            lista.pop(lista.index(i))\n",
    "    return lista\n",
    "preprocessing(dane)"
   ]
  },
  {
   "cell_type": "code",
   "execution_count": 31,
   "metadata": {},
   "outputs": [
    {
     "data": {
      "text/plain": [
       "[10, 32, 454, 31, 53, 31314, 53, 10]"
      ]
     },
     "execution_count": 31,
     "metadata": {},
     "output_type": "execute_result"
    }
   ],
   "source": [
    "dane = [10, 32, 454, 31, -3, 53, -31, -9594, 31314, 53, 10,-54]\n",
    "def preprocessing(lista):\n",
    "    return [i for i in lista if i>=0]\n",
    "preprocessing(dane)"
   ]
  },
  {
   "cell_type": "markdown",
   "metadata": {},
   "source": [
    "#### Zadanie 7\n",
    "\n",
    "Napisz funkcję `sanitation`, która przyjmie listę liczb i usunie z niej elementy ujemne (**bez zwracania nowej listy**)"
   ]
  },
  {
   "cell_type": "code",
   "execution_count": 33,
   "metadata": {},
   "outputs": [
    {
     "name": "stdout",
     "output_type": "stream",
     "text": [
      "[10, 32, 454, 31, 53, -54, 31314, 53, 10]\n"
     ]
    }
   ],
   "source": [
    "dane = [10, 32, 454, 31, -3, 53, -31, -54, -9594, 31314, 53, 10]\n",
    "def sanitation(lista):\n",
    "    for i in lista:\n",
    "        if i<0:\n",
    "            lista.pop(lista.index(i))\n",
    "sanitation(dane)\n",
    "print(dane)"
   ]
  },
  {
   "cell_type": "code",
   "execution_count": null,
   "metadata": {},
   "outputs": [],
   "source": []
  }
 ],
 "metadata": {
  "kernelspec": {
   "display_name": "Python 3",
   "language": "python",
   "name": "python3"
  },
  "language_info": {
   "codemirror_mode": {
    "name": "ipython",
    "version": 3
   },
   "file_extension": ".py",
   "mimetype": "text/x-python",
   "name": "python",
   "nbconvert_exporter": "python",
   "pygments_lexer": "ipython3",
   "version": "3.10.4"
  },
  "vscode": {
   "interpreter": {
    "hash": "3ad933181bd8a04b432d3370b9dc3b0662ad032c4dfaa4e4f1596c548f763858"
   }
  }
 },
 "nbformat": 4,
 "nbformat_minor": 4
}
