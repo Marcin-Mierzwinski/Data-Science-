{
 "cells": [
  {
   "cell_type": "markdown",
   "metadata": {},
   "source": [
    "#### Zadanie 1\n",
    "\n",
    "Napisz funkcje `na_slowa`, która przyjmie tekst (string) i zwróci listę słów"
   ]
  },
  {
   "cell_type": "code",
   "execution_count": null,
   "metadata": {},
   "outputs": [],
   "source": []
  },
  {
   "cell_type": "markdown",
   "metadata": {},
   "source": [
    "#### Zadanie 2\n",
    "\n",
    "Napisz funkcje `wielkie_slowa`, która przyjmie tekst (string) i zwróci listę wszystkoch słów, ale pisanych wielkimi literami"
   ]
  },
  {
   "cell_type": "code",
   "execution_count": null,
   "metadata": {},
   "outputs": [],
   "source": []
  },
  {
   "cell_type": "markdown",
   "metadata": {},
   "source": [
    "#### Zadanie 3\n",
    "\n",
    "Ulepsz funkcje `wielkie_slowa` - zadbaj o usunięcie takich znaków: \".\" \",\" \"!\" \"?\""
   ]
  },
  {
   "cell_type": "code",
   "execution_count": null,
   "metadata": {},
   "outputs": [],
   "source": []
  },
  {
   "cell_type": "markdown",
   "metadata": {},
   "source": [
    "#### Zadanie 4\n",
    "\n",
    "Wykorzystaj funkcję `wielkie_slowa`, żeby dodać słowa tekstu do listy\n",
    "\n",
    "(ale nie modyfikuj tej funkcji)"
   ]
  },
  {
   "cell_type": "code",
   "execution_count": null,
   "metadata": {},
   "outputs": [],
   "source": [
    "tekst = \"Image not loading in python raspbian.\"\n",
    "slowa = [\"CONVERT\", \"A\", \"TUPLE\", \"TO\", \"A\", \"LIST\"]"
   ]
  },
  {
   "cell_type": "markdown",
   "metadata": {},
   "source": [
    "#### Zadanie 5\n",
    "\n",
    "Napisz funkcję `dodaj_slowa`, która przyjmie tekst i listę, do której słowa tekstu zostaną dodane"
   ]
  },
  {
   "cell_type": "code",
   "execution_count": null,
   "metadata": {},
   "outputs": [],
   "source": [
    "tekst = \"Image not loading in python raspbian.\"\n",
    "slowa = [\"CONVERT\", \"A\", \"TUPLE\", \"TO\", \"A\", \"LIST\"]"
   ]
  },
  {
   "cell_type": "markdown",
   "metadata": {},
   "source": [
    "#### Zadanie 6\n",
    "\n",
    "Napisz funkcję `preprocessing`, która przyjmie listę liczb i zwróci listę (**nową**) bez ujemnych elementów"
   ]
  },
  {
   "cell_type": "code",
   "execution_count": null,
   "metadata": {},
   "outputs": [],
   "source": [
    "dane = [10, 32, 454, 31, -3, 53, -31, -54, -9594, 31314, 53, 10]"
   ]
  },
  {
   "cell_type": "markdown",
   "metadata": {},
   "source": [
    "#### Zadanie 7\n",
    "\n",
    "Napisz funkcję `sanitation`, która przyjmie listę liczb i usunie z niej elementy ujemne (**bez zwracania nowej listy**)"
   ]
  },
  {
   "cell_type": "code",
   "execution_count": null,
   "metadata": {},
   "outputs": [],
   "source": [
    "dane = [10, 32, 454, 31, -3, 53, -31, -54, -9594, 31314, 53, 10]"
   ]
  },
  {
   "cell_type": "code",
   "execution_count": null,
   "metadata": {},
   "outputs": [],
   "source": []
  }
 ],
 "metadata": {
  "kernelspec": {
   "display_name": "Python 3",
   "language": "python",
   "name": "python3"
  },
  "language_info": {
   "codemirror_mode": {
    "name": "ipython",
    "version": 3
   },
   "file_extension": ".py",
   "mimetype": "text/x-python",
   "name": "python",
   "nbconvert_exporter": "python",
   "pygments_lexer": "ipython3",
   "version": "3.7.6"
  }
 },
 "nbformat": 4,
 "nbformat_minor": 4
}
